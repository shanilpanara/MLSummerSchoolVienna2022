{
 "cells": [
  {
   "cell_type": "code",
   "execution_count": null,
   "id": "12c80f54",
   "metadata": {},
   "outputs": [],
   "source": [
    "import ipywidgets as widgets\n",
    "from ipywidgets import interact\n",
    "import matplotlib.pyplot as plt\n",
    "import PIL, urllib\n",
    "import numpy as np\n",
    "import warnings\n",
    "import pickle\n",
    "warnings.filterwarnings(\"ignore\", category=UserWarning) "
   ]
  },
  {
   "cell_type": "code",
   "execution_count": null,
   "id": "ac9d4d4b",
   "metadata": {},
   "outputs": [],
   "source": [
    "%%javascript\n",
    "document.title = \"My SummerSchool App\";"
   ]
  },
  {
   "cell_type": "code",
   "execution_count": null,
   "id": "5ccf6910",
   "metadata": {},
   "outputs": [],
   "source": [
    "default_url = 'https://user-images.githubusercontent.com/15421925/178372019-d765ca55-0a99-4420-a015-0dab9b05da13.png'"
   ]
  },
  {
   "cell_type": "code",
   "execution_count": null,
   "id": "fa00a1df",
   "metadata": {},
   "outputs": [],
   "source": [
    "display(widgets.HTML('''\n",
    "<h1>\n",
    "My Summer School App\n",
    "</h1>\n",
    "<p style=\"max-width: 500px;\">\n",
    "This app takes a url to a .jpg or .png image (white digit on a black background).\n",
    "Converts it to a grey scale 8x8 image and passes\n",
    "it through the model trained on a dataset of handwritten digits.\n",
    "The predicted class is than simply displayed as a text.\n",
    "</p>\n",
    "<br>\n",
    "<p>\n",
    "Some example images from the test set:\n",
    "<ul>\n",
    "<li>https://user-images.githubusercontent.com/15421925/178372022-b7cd0ffc-4c8f-49d6-9cfb-8e7ff668b5c5.png</li>\n",
    "<li>https://user-images.githubusercontent.com/15421925/178372024-6b717973-15b9-4e50-9cb3-1277579738e0.png</li>\n",
    "<li>https://user-images.githubusercontent.com/15421925/178372026-16f259f7-b135-4acf-bf0c-f8f924ed09e5.png</li>\n",
    "</ul>\n",
    "<b>Type in an image url and press enter</b>.\n",
    "</p>\n",
    "\n",
    "'''))"
   ]
  },
  {
   "cell_type": "code",
   "execution_count": null,
   "id": "6d457de4",
   "metadata": {},
   "outputs": [],
   "source": [
    "@interact(mt=widgets.RadioButtons(\n",
    "    options=['LogisticRegression', 'PCANaiveBayes'],\n",
    "    value='LogisticRegression',\n",
    "    description='Model:',\n",
    "    disabled=False\n",
    "))\n",
    "def f(mt):\n",
    "    if mt == 'LogisticRegression':\n",
    "        model_path = 'pretrained_lr.model'\n",
    "    else:\n",
    "        model_path = 'pretrained_nb.model'\n",
    "\n",
    "    # Load the desired model\n",
    "    model = pickle.load(open(model_path, 'rb'))\n",
    "\n",
    "    @interact(\n",
    "        url=widgets.Text(\n",
    "            value=default_url,\n",
    "            placeholder='Type in an image URL.',\n",
    "            description='Image URL:',\n",
    "            disabled=False,\n",
    "            continuous_update=False))\n",
    "    def g(url):\n",
    "        try:\n",
    "            # Load and transform the image\n",
    "            img_arr = PIL.Image.open(\n",
    "                urllib.request.urlopen(url)).convert('L').resize((8,8))\n",
    "            \n",
    "            # Keep the url change across model change\n",
    "            global default_url\n",
    "            default_url = url\n",
    "\n",
    "            # Plot the transformed image\n",
    "            plt.figure(figsize=(5,5))\n",
    "            plt.imshow(img_arr, cmap='gray', aspect='equal')\n",
    "            plt.title(f'Converted into grayscale {img_arr._size} image')\n",
    "            plt.axis('off')\n",
    "            plt.show()   \n",
    "\n",
    "            # Preprocess the image data\n",
    "            data = np.array(img_arr)\n",
    "            data = np.round((data / data.max()) * 16)  # train data range (0 - 16)\n",
    "            data = data.reshape(1, -1)  #\n",
    "            \n",
    "            # Pass it through the model and display the result\n",
    "            display(f'Prediction: {model.predict(data)[0]}')\n",
    "            \n",
    "        except Exception as e:\n",
    "            display(e)\n"
   ]
  }
 ],
 "metadata": {
  "kernelspec": {
   "display_name": "Python 3",
   "language": "python",
   "name": "python3"
  },
  "language_info": {
   "codemirror_mode": {
    "name": "ipython",
    "version": 3
   },
   "file_extension": ".py",
   "mimetype": "text/x-python",
   "name": "python",
   "nbconvert_exporter": "python",
   "pygments_lexer": "ipython3",
   "version": "3.8.10"
  }
 },
 "nbformat": 4,
 "nbformat_minor": 5
}
